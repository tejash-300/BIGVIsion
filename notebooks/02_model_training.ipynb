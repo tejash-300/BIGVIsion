{
 "cells": [
  {
   "cell_type": "markdown",
   "metadata": {},
   "source": [
    "# Video Classification - Model Training\n",
    "## Big Vision Internship Assignment\n",
    "\n",
    "This notebook covers:\n",
    "1. Model architecture setup\n",
    "2. Training configuration\n",
    "3. Training loop with mixed precision\n",
    "4. Model checkpointing and logging\n",
    "5. Training visualization\n",
    "\n",
    "**Model**: VideoMAE / TimeSformer"
   ]
  },
  {
   "cell_type": "code",
   "execution_count": 1,
   "metadata": {},
   "outputs": [
    {
     "name": "stdout",
     "output_type": "stream",
     "text": [
      "✅ Libraries imported successfully!\n",
      "PyTorch version: 2.4.1+cu121\n",
      "CUDA available: True\n"
     ]
    }
   ],
   "source": [
    "# Import libraries\n",
    "import sys\n",
    "sys.path.append('..')\n",
    "\n",
    "import torch\n",
    "import torch.nn as nn\n",
    "from torch.cuda.amp import GradScaler\n",
    "import yaml\n",
    "import numpy as np\n",
    "from pathlib import Path\n",
    "import matplotlib.pyplot as plt\n",
    "import json\n",
    "from datetime import datetime\n",
    "import warnings\n",
    "warnings.filterwarnings('ignore')\n",
    "\n",
    "from utils.data_utils import create_data_loaders, load_splits\n",
    "from utils.model_utils import (\n",
    "    create_model, get_optimizer, get_scheduler,\n",
    "    save_checkpoint, get_model_summary, EarlyStopping\n",
    ")\n",
    "from utils.training_utils import (\n",
    "    train_one_epoch, validate,\n",
    "    LabelSmoothingCrossEntropy\n",
    ")\n",
    "from utils.visualization_utils import plot_training_history\n",
    "\n",
    "print(\"✅ Libraries imported successfully!\")\n",
    "print(f\"PyTorch version: {torch.__version__}\")\n",
    "print(f\"CUDA available: {torch.cuda.is_available()}\")"
   ]
  },
  {
   "cell_type": "markdown",
   "metadata": {},
   "source": [
    "## 1. Setup and Configuration"
   ]
  },
  {
   "cell_type": "code",
   "execution_count": 2,
   "metadata": {},
   "outputs": [
    {
     "name": "stdout",
     "output_type": "stream",
     "text": [
      "🖥️  Using device: cuda\n",
      "\n",
      "📋 Training Configuration:\n",
      "   Model: videomae\n",
      "   Batch size: 8\n",
      "   Epochs: 50\n",
      "   Learning rate: 0.0001\n",
      "   Mixed precision: True\n"
     ]
    }
   ],
   "source": [
    "# Load configuration\n",
    "with open('../configs/config.yaml', 'r') as f:\n",
    "    config = yaml.safe_load(f)\n",
    "\n",
    "# Set device\n",
    "device = torch.device('cuda' if torch.cuda.is_available() else 'cpu')\n",
    "print(f\"🖥️  Using device: {device}\")\n",
    "\n",
    "# Set seeds\n",
    "torch.manual_seed(config['seed'])\n",
    "np.random.seed(config['seed'])\n",
    "\n",
    "# Create output directories (adjust paths for notebook location)\n",
    "def resolve_path(path_str):\n",
    "    \"\"\"Convert config paths (relative to project root) to notebook paths\"\"\"\n",
    "    if path_str.startswith('./'):\n",
    "        return Path('..') / path_str[2:]\n",
    "    return Path(path_str)\n",
    "\n",
    "models_dir = resolve_path(config['output']['models_dir'])\n",
    "log_dir = resolve_path(config['logging']['log_dir'])\n",
    "models_dir.mkdir(parents=True, exist_ok=True)\n",
    "log_dir.mkdir(parents=True, exist_ok=True)\n",
    "\n",
    "print(\"\\n📋 Training Configuration:\")\n",
    "print(f\"   Model: {config['model']['name']}\")\n",
    "print(f\"   Batch size: {config['training']['batch_size']}\")\n",
    "print(f\"   Epochs: {config['training']['num_epochs']}\")\n",
    "print(f\"   Learning rate: {config['training']['optimizer']['lr']}\")\n",
    "print(f\"   Mixed precision: {config['training']['mixed_precision']}\")"
   ]
  },
  {
   "cell_type": "markdown",
   "metadata": {},
   "source": [
    "## 2. Load Data"
   ]
  },
  {
   "cell_type": "code",
   "execution_count": 3,
   "metadata": {},
   "outputs": [
    {
     "name": "stdout",
     "output_type": "stream",
     "text": [
      "📊 Dataset loaded:\n",
      "   Train samples: 487\n",
      "   Val samples: 104\n",
      "   Number of classes: 5\n",
      "\n",
      "🔄 Creating data loaders...\n",
      "✅ Data loaders created:\n",
      "   Train batches: 60\n",
      "   Val batches: 7\n"
     ]
    }
   ],
   "source": [
    "# Load splits\n",
    "splits_dir = resolve_path(config['dataset']['splits_dir'])\n",
    "splits = load_splits(str(splits_dir))\n",
    "\n",
    "train_files = splits['train']['files']\n",
    "train_labels = splits['train']['labels']\n",
    "val_files = splits['val']['files']\n",
    "val_labels = splits['val']['labels']\n",
    "class_names = splits['class_names']\n",
    "num_classes = len(class_names)\n",
    "\n",
    "print(f\"📊 Dataset loaded:\")\n",
    "print(f\"   Train samples: {len(train_files)}\")\n",
    "print(f\"   Val samples: {len(val_files)}\")\n",
    "print(f\"   Number of classes: {num_classes}\")\n",
    "\n",
    "# Create data loaders\n",
    "print(\"\\n🔄 Creating data loaders...\")\n",
    "train_loader, val_loader, _ = create_data_loaders(\n",
    "    config, train_files, train_labels,\n",
    "    val_files, val_labels\n",
    ")\n",
    "\n",
    "print(f\"✅ Data loaders created:\")\n",
    "print(f\"   Train batches: {len(train_loader)}\")\n",
    "print(f\"   Val batches: {len(val_loader)}\")"
   ]
  },
  {
   "cell_type": "markdown",
   "metadata": {},
   "source": [
    "## 3. Create Model"
   ]
  },
  {
   "cell_type": "code",
   "execution_count": 4,
   "metadata": {},
   "outputs": [
    {
     "name": "stdout",
     "output_type": "stream",
     "text": [
      "🏗️  Creating model...\n"
     ]
    },
    {
     "name": "stderr",
     "output_type": "stream",
     "text": [
      "Some weights of VideoMAEForVideoClassification were not initialized from the model checkpoint at MCG-NJU/videomae-base and are newly initialized: ['classifier.bias', 'classifier.weight']\n",
      "You should probably TRAIN this model on a down-stream task to be able to use it for predictions and inference.\n"
     ]
    },
    {
     "name": "stdout",
     "output_type": "stream",
     "text": [
      "\n",
      "✅ Model created:\n",
      "   Total parameters: 86,231,045\n",
      "   Trainable parameters: 86,231,045\n",
      "   Model size: 328.95 MB\n"
     ]
    }
   ],
   "source": [
    "# Create model\n",
    "print(\"🏗️  Creating model...\")\n",
    "model = create_model(\n",
    "    model_name=config['model']['name'],\n",
    "    num_classes=num_classes,\n",
    "    config=config['model'],\n",
    "    pretrained=config['model']['pretrained']\n",
    ")\n",
    "\n",
    "model = model.to(device)\n",
    "\n",
    "# Model summary\n",
    "summary = get_model_summary(model)\n",
    "print(f\"\\n✅ Model created:\")\n",
    "print(f\"   Total parameters: {summary['total_parameters']:,}\")\n",
    "print(f\"   Trainable parameters: {summary['trainable_parameters']:,}\")\n",
    "print(f\"   Model size: {summary['model_size_mb']:.2f} MB\")"
   ]
  },
  {
   "cell_type": "markdown",
   "metadata": {},
   "source": [
    "## 4. Setup Training Components"
   ]
  },
  {
   "cell_type": "code",
   "execution_count": 5,
   "metadata": {},
   "outputs": [
    {
     "name": "stdout",
     "output_type": "stream",
     "text": [
      "✅ Training components initialized\n"
     ]
    }
   ],
   "source": [
    "# Loss function\n",
    "if config['advanced'].get('label_smoothing', 0) > 0:\n",
    "    criterion = LabelSmoothingCrossEntropy(config['advanced']['label_smoothing'])\n",
    "else:\n",
    "    criterion = nn.CrossEntropyLoss()\n",
    "\n",
    "# Optimizer\n",
    "optimizer = get_optimizer(model, config)\n",
    "\n",
    "# Learning rate scheduler\n",
    "num_training_steps = len(train_loader) * config['training']['num_epochs']\n",
    "scheduler = get_scheduler(optimizer, config, num_training_steps)\n",
    "\n",
    "# Mixed precision scaler\n",
    "scaler = GradScaler() if config['training']['mixed_precision'] else None\n",
    "\n",
    "# Early stopping\n",
    "early_stopping = None\n",
    "if config['training']['early_stopping']['enabled']:\n",
    "    early_stopping = EarlyStopping(\n",
    "        patience=config['training']['early_stopping']['patience'],\n",
    "        min_delta=config['training']['early_stopping']['min_delta'],\n",
    "        mode=config['training']['checkpoint']['mode']\n",
    "    )\n",
    "\n",
    "print(\"✅ Training components initialized\")"
   ]
  },
  {
   "cell_type": "code",
   "execution_count": 6,
   "metadata": {},
   "outputs": [
    {
     "name": "stdout",
     "output_type": "stream",
     "text": [
      "🖥️  Training Device: Tesla T4\n",
      "💾 GPU Memory: 15.66 GB\n",
      "\n",
      "🚀 Starting training...\n",
      "\n",
      "======================================================================\n",
      "Epoch 1/50\n",
      "======================================================================\n"
     ]
    },
    {
     "name": "stderr",
     "output_type": "stream",
     "text": [
      "Epoch 1:   0%|          | 0/60 [00:00<?, ?it/s]"
     ]
    },
    {
     "name": "stderr",
     "output_type": "stream",
     "text": [
      "Epoch 1: 100%|██████████| 60/60 [00:43<00:00,  1.37it/s, loss=1.2994, acc=0.4958, lr=0.000100]\n",
      "Validation: 100%|██████████| 7/7 [00:15<00:00,  2.22s/it, loss=0.9778]\n"
     ]
    },
    {
     "name": "stdout",
     "output_type": "stream",
     "text": [
      "\n",
      "📊 Epoch 1 Summary:\n",
      "   Train Loss: 1.2994 | Train Acc: 0.50%\n",
      "   Val Loss:   0.9778 | Val Acc:   0.73%\n",
      "   LR:         9.99e-05\n",
      "   💾 Best model saved! (Val Loss: 0.9778)\n",
      "\n",
      "======================================================================\n",
      "Epoch 2/50\n",
      "======================================================================\n"
     ]
    },
    {
     "name": "stderr",
     "output_type": "stream",
     "text": [
      "Epoch 2: 100%|██████████| 60/60 [00:43<00:00,  1.37it/s, loss=0.8689, acc=0.7854, lr=0.000100]\n",
      "Validation: 100%|██████████| 7/7 [00:15<00:00,  2.17s/it, loss=0.8331]\n"
     ]
    },
    {
     "name": "stdout",
     "output_type": "stream",
     "text": [
      "\n",
      "📊 Epoch 2 Summary:\n",
      "   Train Loss: 0.8689 | Train Acc: 0.79%\n",
      "   Val Loss:   0.8331 | Val Acc:   0.82%\n",
      "   LR:         9.96e-05\n",
      "   💾 Best model saved! (Val Loss: 0.8331)\n",
      "\n",
      "======================================================================\n",
      "Epoch 3/50\n",
      "======================================================================\n"
     ]
    },
    {
     "name": "stderr",
     "output_type": "stream",
     "text": [
      "Epoch 3: 100%|██████████| 60/60 [00:44<00:00,  1.35it/s, loss=0.7037, acc=0.8812, lr=0.000099]\n",
      "Validation: 100%|██████████| 7/7 [00:15<00:00,  2.17s/it, loss=0.9449]\n"
     ]
    },
    {
     "name": "stdout",
     "output_type": "stream",
     "text": [
      "\n",
      "📊 Epoch 3 Summary:\n",
      "   Train Loss: 0.7037 | Train Acc: 0.88%\n",
      "   Val Loss:   0.9449 | Val Acc:   0.77%\n",
      "   LR:         9.91e-05\n",
      "\n",
      "======================================================================\n",
      "Epoch 4/50\n",
      "======================================================================\n"
     ]
    },
    {
     "name": "stderr",
     "output_type": "stream",
     "text": [
      "Epoch 4: 100%|██████████| 60/60 [00:44<00:00,  1.34it/s, loss=0.6920, acc=0.8938, lr=0.000098]\n",
      "Validation: 100%|██████████| 7/7 [00:15<00:00,  2.16s/it, loss=0.6992]\n"
     ]
    },
    {
     "name": "stdout",
     "output_type": "stream",
     "text": [
      "\n",
      "📊 Epoch 4 Summary:\n",
      "   Train Loss: 0.6920 | Train Acc: 0.89%\n",
      "   Val Loss:   0.6992 | Val Acc:   0.88%\n",
      "   LR:         9.84e-05\n",
      "   💾 Best model saved! (Val Loss: 0.6992)\n",
      "\n",
      "======================================================================\n",
      "Epoch 5/50\n",
      "======================================================================\n"
     ]
    },
    {
     "name": "stderr",
     "output_type": "stream",
     "text": [
      "Epoch 5: 100%|██████████| 60/60 [00:45<00:00,  1.32it/s, loss=0.6052, acc=0.9313, lr=0.000098]\n",
      "Validation: 100%|██████████| 7/7 [00:15<00:00,  2.19s/it, loss=0.5897]\n"
     ]
    },
    {
     "name": "stdout",
     "output_type": "stream",
     "text": [
      "\n",
      "📊 Epoch 5 Summary:\n",
      "   Train Loss: 0.6052 | Train Acc: 0.93%\n",
      "   Val Loss:   0.5897 | Val Acc:   0.94%\n",
      "   LR:         9.76e-05\n",
      "   💾 Best model saved! (Val Loss: 0.5897)\n",
      "\n",
      "======================================================================\n",
      "Epoch 6/50\n",
      "======================================================================\n"
     ]
    },
    {
     "name": "stderr",
     "output_type": "stream",
     "text": [
      "Epoch 6: 100%|██████████| 60/60 [00:44<00:00,  1.34it/s, loss=0.5662, acc=0.9563, lr=0.000097]\n",
      "Validation: 100%|██████████| 7/7 [00:15<00:00,  2.18s/it, loss=0.6141]\n"
     ]
    },
    {
     "name": "stdout",
     "output_type": "stream",
     "text": [
      "\n",
      "📊 Epoch 6 Summary:\n",
      "   Train Loss: 0.5662 | Train Acc: 0.96%\n",
      "   Val Loss:   0.6141 | Val Acc:   0.94%\n",
      "   LR:         9.65e-05\n",
      "\n",
      "======================================================================\n",
      "Epoch 7/50\n",
      "======================================================================\n"
     ]
    },
    {
     "name": "stderr",
     "output_type": "stream",
     "text": [
      "Epoch 7: 100%|██████████| 60/60 [00:45<00:00,  1.33it/s, loss=0.5214, acc=0.9708, lr=0.000095]\n",
      "Validation: 100%|██████████| 7/7 [00:15<00:00,  2.22s/it, loss=0.5647]\n"
     ]
    },
    {
     "name": "stdout",
     "output_type": "stream",
     "text": [
      "\n",
      "📊 Epoch 7 Summary:\n",
      "   Train Loss: 0.5214 | Train Acc: 0.97%\n",
      "   Val Loss:   0.5647 | Val Acc:   0.95%\n",
      "   LR:         9.53e-05\n",
      "   💾 Best model saved! (Val Loss: 0.5647)\n",
      "\n",
      "======================================================================\n",
      "Epoch 8/50\n",
      "======================================================================\n"
     ]
    },
    {
     "name": "stderr",
     "output_type": "stream",
     "text": [
      "Epoch 8: 100%|██████████| 60/60 [00:45<00:00,  1.33it/s, loss=0.5363, acc=0.9625, lr=0.000094]\n",
      "Validation: 100%|██████████| 7/7 [00:15<00:00,  2.19s/it, loss=0.5440]\n"
     ]
    },
    {
     "name": "stdout",
     "output_type": "stream",
     "text": [
      "\n",
      "📊 Epoch 8 Summary:\n",
      "   Train Loss: 0.5363 | Train Acc: 0.96%\n",
      "   Val Loss:   0.5440 | Val Acc:   0.95%\n",
      "   LR:         9.39e-05\n",
      "   💾 Best model saved! (Val Loss: 0.5440)\n",
      "\n",
      "======================================================================\n",
      "Epoch 9/50\n",
      "======================================================================\n"
     ]
    },
    {
     "name": "stderr",
     "output_type": "stream",
     "text": [
      "Epoch 9: 100%|██████████| 60/60 [00:44<00:00,  1.34it/s, loss=0.5263, acc=0.9708, lr=0.000092]\n",
      "Validation: 100%|██████████| 7/7 [00:15<00:00,  2.18s/it, loss=0.5774]\n"
     ]
    },
    {
     "name": "stdout",
     "output_type": "stream",
     "text": [
      "\n",
      "📊 Epoch 9 Summary:\n",
      "   Train Loss: 0.5263 | Train Acc: 0.97%\n",
      "   Val Loss:   0.5774 | Val Acc:   0.96%\n",
      "   LR:         9.23e-05\n",
      "\n",
      "======================================================================\n",
      "Epoch 10/50\n",
      "======================================================================\n"
     ]
    },
    {
     "name": "stderr",
     "output_type": "stream",
     "text": [
      "Epoch 10: 100%|██████████| 60/60 [00:44<00:00,  1.34it/s, loss=0.4927, acc=0.9875, lr=0.000091]\n",
      "Validation: 100%|██████████| 7/7 [00:15<00:00,  2.16s/it, loss=0.6059]\n"
     ]
    },
    {
     "name": "stdout",
     "output_type": "stream",
     "text": [
      "\n",
      "📊 Epoch 10 Summary:\n",
      "   Train Loss: 0.4927 | Train Acc: 0.99%\n",
      "   Val Loss:   0.6059 | Val Acc:   0.93%\n",
      "   LR:         9.05e-05\n",
      "\n",
      "======================================================================\n",
      "Epoch 11/50\n",
      "======================================================================\n"
     ]
    },
    {
     "name": "stderr",
     "output_type": "stream",
     "text": [
      "Epoch 11: 100%|██████████| 60/60 [00:44<00:00,  1.34it/s, loss=0.4954, acc=0.9875, lr=0.000089]\n",
      "Validation: 100%|██████████| 7/7 [00:15<00:00,  2.18s/it, loss=0.5726]\n"
     ]
    },
    {
     "name": "stdout",
     "output_type": "stream",
     "text": [
      "\n",
      "📊 Epoch 11 Summary:\n",
      "   Train Loss: 0.4954 | Train Acc: 0.99%\n",
      "   Val Loss:   0.5726 | Val Acc:   0.95%\n",
      "   LR:         8.86e-05\n",
      "\n",
      "======================================================================\n",
      "Epoch 12/50\n",
      "======================================================================\n"
     ]
    },
    {
     "name": "stderr",
     "output_type": "stream",
     "text": [
      "Epoch 12: 100%|██████████| 60/60 [00:44<00:00,  1.35it/s, loss=0.4871, acc=0.9917, lr=0.000087]\n",
      "Validation: 100%|██████████| 7/7 [00:15<00:00,  2.20s/it, loss=0.5836]\n"
     ]
    },
    {
     "name": "stdout",
     "output_type": "stream",
     "text": [
      "\n",
      "📊 Epoch 12 Summary:\n",
      "   Train Loss: 0.4871 | Train Acc: 0.99%\n",
      "   Val Loss:   0.5836 | Val Acc:   0.95%\n",
      "   LR:         8.66e-05\n",
      "\n",
      "======================================================================\n",
      "Epoch 13/50\n",
      "======================================================================\n"
     ]
    },
    {
     "name": "stderr",
     "output_type": "stream",
     "text": [
      "Epoch 13: 100%|██████████| 60/60 [00:44<00:00,  1.35it/s, loss=0.4871, acc=0.9917, lr=0.000084]\n",
      "Validation: 100%|██████████| 7/7 [00:15<00:00,  2.18s/it, loss=0.5586]\n"
     ]
    },
    {
     "name": "stdout",
     "output_type": "stream",
     "text": [
      "\n",
      "📊 Epoch 13 Summary:\n",
      "   Train Loss: 0.4871 | Train Acc: 0.99%\n",
      "   Val Loss:   0.5586 | Val Acc:   0.95%\n",
      "   LR:         8.44e-05\n",
      "\n",
      "======================================================================\n",
      "Epoch 14/50\n",
      "======================================================================\n"
     ]
    },
    {
     "name": "stderr",
     "output_type": "stream",
     "text": [
      "Epoch 14: 100%|██████████| 60/60 [00:44<00:00,  1.34it/s, loss=0.4824, acc=0.9938, lr=0.000082]\n",
      "Validation: 100%|██████████| 7/7 [00:15<00:00,  2.16s/it, loss=0.4684]\n"
     ]
    },
    {
     "name": "stdout",
     "output_type": "stream",
     "text": [
      "\n",
      "📊 Epoch 14 Summary:\n",
      "   Train Loss: 0.4824 | Train Acc: 0.99%\n",
      "   Val Loss:   0.4684 | Val Acc:   1.00%\n",
      "   LR:         8.21e-05\n",
      "   💾 Best model saved! (Val Loss: 0.4684)\n",
      "\n",
      "======================================================================\n",
      "Epoch 15/50\n",
      "======================================================================\n"
     ]
    },
    {
     "name": "stderr",
     "output_type": "stream",
     "text": [
      "Epoch 15: 100%|██████████| 60/60 [00:44<00:00,  1.35it/s, loss=0.4811, acc=0.9917, lr=0.000080]\n",
      "Validation: 100%|██████████| 7/7 [00:15<00:00,  2.20s/it, loss=0.4801]\n"
     ]
    },
    {
     "name": "stdout",
     "output_type": "stream",
     "text": [
      "\n",
      "📊 Epoch 15 Summary:\n",
      "   Train Loss: 0.4811 | Train Acc: 0.99%\n",
      "   Val Loss:   0.4801 | Val Acc:   0.99%\n",
      "   LR:         7.96e-05\n",
      "\n",
      "======================================================================\n",
      "Epoch 16/50\n",
      "======================================================================\n"
     ]
    },
    {
     "name": "stderr",
     "output_type": "stream",
     "text": [
      "Epoch 16: 100%|██████████| 60/60 [00:44<00:00,  1.35it/s, loss=0.4680, acc=0.9979, lr=0.000077]\n",
      "Validation: 100%|██████████| 7/7 [00:15<00:00,  2.19s/it, loss=0.4663]\n"
     ]
    },
    {
     "name": "stdout",
     "output_type": "stream",
     "text": [
      "\n",
      "📊 Epoch 16 Summary:\n",
      "   Train Loss: 0.4680 | Train Acc: 1.00%\n",
      "   Val Loss:   0.4663 | Val Acc:   1.00%\n",
      "   LR:         7.70e-05\n",
      "   💾 Best model saved! (Val Loss: 0.4663)\n",
      "\n",
      "⚠️ Early stopping triggered at epoch 16\n",
      "\n",
      "======================================================================\n",
      "✅ Training Complete!\n",
      "======================================================================\n"
     ]
    }
   ],
   "source": [
    "## 5. Training Loop\n",
    "\n",
    "# Check GPU\n",
    "device_name = torch.cuda.get_device_name(0) if torch.cuda.is_available() else \"CPU\"\n",
    "print(f\"🖥️  Training Device: {device_name}\")\n",
    "if torch.cuda.is_available():\n",
    "    print(f\"💾 GPU Memory: {torch.cuda.get_device_properties(0).total_memory / 1e9:.2f} GB\\n\")\n",
    "\n",
    "# Initialize tracking\n",
    "history = {\n",
    "    'train_loss': [],\n",
    "    'train_acc': [],\n",
    "    'val_loss': [],\n",
    "    'val_acc': [],\n",
    "    'learning_rates': []\n",
    "}\n",
    "\n",
    "best_val_loss = float('inf')\n",
    "start_epoch = 0\n",
    "\n",
    "# Resume from checkpoint if exists\n",
    "resume_checkpoint = models_dir / \"last_checkpoint.pth\"\n",
    "if resume_checkpoint.exists():\n",
    "    print(f\"🔄 Found checkpoint! Resuming training from {resume_checkpoint}\")\n",
    "    checkpoint = torch.load(resume_checkpoint)\n",
    "    model.load_state_dict(checkpoint['model_state_dict'])\n",
    "    optimizer.load_state_dict(checkpoint['optimizer_state_dict'])\n",
    "    if scheduler and 'scheduler_state_dict' in checkpoint:\n",
    "        scheduler.load_state_dict(checkpoint['scheduler_state_dict'])\n",
    "    start_epoch = checkpoint['epoch']\n",
    "    best_val_loss = checkpoint.get('best_metric', float('inf'))\n",
    "    if 'history' in checkpoint:\n",
    "        history = checkpoint['history']\n",
    "    print(f\"✅ Resumed from epoch {start_epoch}, Best Val Loss: {best_val_loss:.4f}\\n\")\n",
    "\n",
    "print(\"🚀 Starting training...\\n\")\n",
    "\n",
    "# Training loop\n",
    "for epoch in range(start_epoch, config['training']['num_epochs']):\n",
    "    print(\"=\"*70)\n",
    "    print(f\"Epoch {epoch+1}/{config['training']['num_epochs']}\")\n",
    "    print(\"=\"*70)\n",
    "    \n",
    "    # Train\n",
    "    train_metrics = train_one_epoch(\n",
    "        model, train_loader, criterion, optimizer,\n",
    "        scheduler, device, epoch+1, config, scaler\n",
    "    )\n",
    "    \n",
    "    # Validate\n",
    "    val_metrics = validate(model, val_loader, criterion, device, config)\n",
    "    \n",
    "    # Update history\n",
    "    history['train_loss'].append(train_metrics['loss'])\n",
    "    history['train_acc'].append(train_metrics['accuracy'])\n",
    "    history['val_loss'].append(val_metrics['loss'])\n",
    "    history['val_acc'].append(val_metrics['accuracy'])\n",
    "    history['learning_rates'].append(optimizer.param_groups[0]['lr'])\n",
    "    \n",
    "    # Print epoch summary\n",
    "    print(f\"\\n📊 Epoch {epoch+1} Summary:\")\n",
    "    print(f\"   Train Loss: {train_metrics['loss']:.4f} | Train Acc: {train_metrics['accuracy']:.2f}%\")\n",
    "    print(f\"   Val Loss:   {val_metrics['loss']:.4f} | Val Acc:   {val_metrics['accuracy']:.2f}%\")\n",
    "    print(f\"   LR:         {optimizer.param_groups[0]['lr']:.2e}\")\n",
    "    \n",
    "    # Save best model\n",
    "    if val_metrics['loss'] < best_val_loss:\n",
    "        best_val_loss = val_metrics['loss']\n",
    "        checkpoint_path = models_dir / f\"best_model_epoch_{epoch+1}.pth\"\n",
    "        save_checkpoint(\n",
    "            model, optimizer, scheduler, epoch+1,\n",
    "            best_val_loss, checkpoint_path, \n",
    "            config=config, history=history\n",
    "        )\n",
    "        print(f\"   💾 Best model saved! (Val Loss: {best_val_loss:.4f})\")\n",
    "    \n",
    "    # Save last checkpoint for resuming\n",
    "    last_checkpoint_path = models_dir / \"last_checkpoint.pth\"\n",
    "    save_checkpoint(\n",
    "        model, optimizer, scheduler, epoch+1,\n",
    "        best_val_loss, last_checkpoint_path,\n",
    "        config=config, history=history\n",
    "    )\n",
    "    \n",
    "    # Early stopping check\n",
    "    if early_stopping is not None:\n",
    "        early_stopping(val_metrics['loss'])\n",
    "        if early_stopping.early_stop:\n",
    "            print(f\"\\n⚠️ Early stopping triggered at epoch {epoch+1}\")\n",
    "            break\n",
    "    \n",
    "    print()\n",
    "\n",
    "print(\"\\n\" + \"=\"*70)\n",
    "print(\"✅ Training Complete!\")\n",
    "print(\"=\"*70)"
   ]
  },
  {
   "cell_type": "markdown",
   "metadata": {},
   "source": [
    "## 6. Save Training History and Visualize"
   ]
  },
  {
   "cell_type": "code",
   "execution_count": 10,
   "metadata": {},
   "outputs": [
    {
     "name": "stdout",
     "output_type": "stream",
     "text": [
      "💾 Training history saved to ../outputs/logs/training_history.json\n"
     ]
    },
    {
     "ename": "KeyError",
     "evalue": "'train_accuracy'",
     "output_type": "error",
     "traceback": [
      "\u001b[0;31m---------------------------------------------------------------------------\u001b[0m",
      "\u001b[0;31mKeyError\u001b[0m                                  Traceback (most recent call last)",
      "Cell \u001b[0;32mIn[10], line 11\u001b[0m\n\u001b[1;32m      9\u001b[0m viz_dir \u001b[38;5;241m=\u001b[39m resolve_path(config[\u001b[38;5;124m'\u001b[39m\u001b[38;5;124moutput\u001b[39m\u001b[38;5;124m'\u001b[39m][\u001b[38;5;124m'\u001b[39m\u001b[38;5;124mvisualizations_dir\u001b[39m\u001b[38;5;124m'\u001b[39m])\n\u001b[1;32m     10\u001b[0m viz_dir\u001b[38;5;241m.\u001b[39mmkdir(parents\u001b[38;5;241m=\u001b[39m\u001b[38;5;28;01mTrue\u001b[39;00m, exist_ok\u001b[38;5;241m=\u001b[39m\u001b[38;5;28;01mTrue\u001b[39;00m)\n\u001b[0;32m---> 11\u001b[0m \u001b[43mplot_training_history\u001b[49m\u001b[43m(\u001b[49m\n\u001b[1;32m     12\u001b[0m \u001b[43m    \u001b[49m\u001b[43mhistory\u001b[49m\u001b[43m,\u001b[49m\n\u001b[1;32m     13\u001b[0m \u001b[43m    \u001b[49m\u001b[43msave_path\u001b[49m\u001b[38;5;241;43m=\u001b[39;49m\u001b[38;5;28;43mstr\u001b[39;49m\u001b[43m(\u001b[49m\u001b[43mviz_dir\u001b[49m\u001b[43m \u001b[49m\u001b[38;5;241;43m/\u001b[39;49m\u001b[43m \u001b[49m\u001b[38;5;124;43m\"\u001b[39;49m\u001b[38;5;124;43mtraining_history.png\u001b[39;49m\u001b[38;5;124;43m\"\u001b[39;49m\u001b[43m)\u001b[49m\n\u001b[1;32m     14\u001b[0m \u001b[43m)\u001b[49m\n\u001b[1;32m     16\u001b[0m \u001b[38;5;28mprint\u001b[39m(\u001b[38;5;124m\"\u001b[39m\u001b[38;5;130;01m\\n\u001b[39;00m\u001b[38;5;124m✅ Training visualization saved!\u001b[39m\u001b[38;5;124m\"\u001b[39m)\n",
      "File \u001b[0;32m~/tejash/video-classification-project/notebooks/../utils/visualization_utils.py:38\u001b[0m, in \u001b[0;36mplot_training_history\u001b[0;34m(history, save_path)\u001b[0m\n\u001b[1;32m     35\u001b[0m axes[\u001b[38;5;241m0\u001b[39m, \u001b[38;5;241m0\u001b[39m]\u001b[38;5;241m.\u001b[39mgrid(\u001b[38;5;28;01mTrue\u001b[39;00m, alpha\u001b[38;5;241m=\u001b[39m\u001b[38;5;241m0.3\u001b[39m)\n\u001b[1;32m     37\u001b[0m \u001b[38;5;66;03m# Plot accuracy\u001b[39;00m\n\u001b[0;32m---> 38\u001b[0m axes[\u001b[38;5;241m0\u001b[39m, \u001b[38;5;241m1\u001b[39m]\u001b[38;5;241m.\u001b[39mplot(\u001b[43mhistory\u001b[49m\u001b[43m[\u001b[49m\u001b[38;5;124;43m'\u001b[39;49m\u001b[38;5;124;43mtrain_accuracy\u001b[39;49m\u001b[38;5;124;43m'\u001b[39;49m\u001b[43m]\u001b[49m, label\u001b[38;5;241m=\u001b[39m\u001b[38;5;124m'\u001b[39m\u001b[38;5;124mTrain Accuracy\u001b[39m\u001b[38;5;124m'\u001b[39m, linewidth\u001b[38;5;241m=\u001b[39m\u001b[38;5;241m2\u001b[39m)\n\u001b[1;32m     39\u001b[0m axes[\u001b[38;5;241m0\u001b[39m, \u001b[38;5;241m1\u001b[39m]\u001b[38;5;241m.\u001b[39mplot(history[\u001b[38;5;124m'\u001b[39m\u001b[38;5;124mval_accuracy\u001b[39m\u001b[38;5;124m'\u001b[39m], label\u001b[38;5;241m=\u001b[39m\u001b[38;5;124m'\u001b[39m\u001b[38;5;124mVal Accuracy\u001b[39m\u001b[38;5;124m'\u001b[39m, linewidth\u001b[38;5;241m=\u001b[39m\u001b[38;5;241m2\u001b[39m)\n\u001b[1;32m     40\u001b[0m axes[\u001b[38;5;241m0\u001b[39m, \u001b[38;5;241m1\u001b[39m]\u001b[38;5;241m.\u001b[39mset_xlabel(\u001b[38;5;124m'\u001b[39m\u001b[38;5;124mEpoch\u001b[39m\u001b[38;5;124m'\u001b[39m)\n",
      "\u001b[0;31mKeyError\u001b[0m: 'train_accuracy'"
     ]
    },
    {
     "data": {
      "image/png": "[encoded data removed]",
      "text/plain": [
       "<Figure size 1500x1000 with 4 Axes>"
      ]
     },
     "metadata": {},
     "output_type": "display_data"
    }
   ],
   "source": [
    "# Save history (resolve paths)\n",
    "history_path = resolve_path(config['logging']['log_dir']) / \"training_history.json\"\n",
    "with open(history_path, 'w') as f:\n",
    "    json.dump(history, f, indent=2)\n",
    "\n",
    "print(f\"💾 Training history saved to {history_path}\")\n",
    "\n",
    "# Plot training history\n",
    "viz_dir = resolve_path(config['output']['visualizations_dir'])\n",
    "viz_dir.mkdir(parents=True, exist_ok=True)\n",
    "plot_training_history(\n",
    "    history,\n",
    "    save_path=str(viz_dir / \"training_history.png\")\n",
    ")\n",
    "\n",
    "print(\"\\n✅ Training visualization saved!\")"
   ]
  },
  {
   "cell_type": "markdown",
   "metadata": {},
   "source": [
    "## 7. Summary\n",
    "\n",
    "### Training Completed! 🎉\n",
    "\n",
    "**Next Steps:**\n",
    "1. Proceed to `03_evaluation_and_visualization.ipynb` for detailed evaluation\n",
    "2. Use `04_inference_and_prediction.ipynb` for making predictions\n",
    "\n",
    "---"
   ]
  }
 ],
 "metadata": {
  "kernelspec": {
   "display_name": "Python 3",
   "language": "python",
   "name": "python3"
  },
  "language_info": {
   "codemirror_mode": {
    "name": "ipython",
    "version": 3
   },
   "file_extension": ".py",
   "mimetype": "text/x-python",
   "name": "python",
   "nbconvert_exporter": "python",
   "pygments_lexer": "ipython3",
   "version": "3.10.12"
  }
 },
 "nbformat": 4,
 "nbformat_minor": 4
}
